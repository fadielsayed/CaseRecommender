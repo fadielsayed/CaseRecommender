{
 "cells": [
  {
   "cell_type": "code",
   "execution_count": 14,
   "id": "c378601e-415e-4f45-afe8-97686b126dfb",
   "metadata": {},
   "outputs": [],
   "source": [
    "from caserec.recommenders.item_recommendation.itemknn import ItemKNN\n",
    "from caserec.recommenders.item_recommendation.userknn import UserKNN\n",
    "from caserec.recommenders.item_recommendation.most_popular import MostPopular\n",
    "from caserec.utils.cross_validation import CrossValidation"
   ]
  },
  {
   "cell_type": "code",
   "execution_count": 15,
   "id": "f8e8e716",
   "metadata": {},
   "outputs": [],
   "source": [
    "db = '../datasets/ml-100k/u.data'\n",
    "folds_path = '../datasets/ml-100k/'"
   ]
  },
  {
   "cell_type": "code",
   "execution_count": 17,
   "id": "624f78b5",
   "metadata": {},
   "outputs": [
    {
     "name": "stdout",
     "output_type": "stream",
     "text": [
      "[Case Recommender: Cross Validation]\n",
      "\n",
      "Database:: ../datasets/ml-100k/u.data \n",
      "Recommender Algorithm:: ItemKNN Algorithm | K Folds: 7\n",
      "\n",
      "Eval:: PREC@1: 0.410011 PREC@3: 0.341498 PREC@5: 0.312886 PREC@10: 0.264217 RECALL@1: 0.036952 RECALL@3: 0.087038 RECALL@5: 0.133048 RECALL@10: 0.216792 MAP@1: 0.410011 MAP@3: 0.496006 MAP@5: 0.4962 MAP@10: 0.463244 NDCG@1: 0.410011 NDCG@3: 0.574005 NDCG@5: 0.583856 NDCG@10: 0.576406 \n",
      "Eval:: PREC@1: 0.409871 RECALL@1: 0.036677 NDCG@1: 0.409871 MAP@1: 0.409871 MAP: 0.470048 PREC@3: 0.352289 RECALL@3: 0.092925 NDCG@3: 0.602682 MAP@3: 0.508941 PREC@5: 0.317597 RECALL@5: 0.136347 NDCG@5: 0.603447 MAP@5: 0.504462 PREC@10: 0.266202 RECALL@10: 0.219817 NDCG@10: 0.592244 MAP@10: 0.470048 \n",
      "Eval:: PREC@1: 0.41853 RECALL@1: 0.037626 NDCG@1: 0.41853 MAP@1: 0.41853 MAP: 0.476413 PREC@3: 0.354988 RECALL@3: 0.093623 NDCG@3: 0.598975 MAP@3: 0.512158 PREC@5: 0.321619 RECALL@5: 0.141927 NDCG@5: 0.61722 MAP@5: 0.516227 PREC@10: 0.265921 RECALL@10: 0.224479 NDCG@10: 0.597683 MAP@10: 0.476413 \n",
      "Eval:: PREC@1: 0.394231 RECALL@1: 0.037298 NDCG@1: 0.394231 MAP@1: 0.394231 MAP: 0.4574 PREC@3: 0.335114 RECALL@3: 0.090646 NDCG@3: 0.572557 MAP@3: 0.487001 PREC@5: 0.302991 RECALL@5: 0.13271 NDCG@5: 0.586104 MAP@5: 0.487432 PREC@10: 0.25641 RECALL@10: 0.218347 NDCG@10: 0.576886 MAP@10: 0.4574 \n",
      "Eval:: PREC@1: 0.402985 RECALL@1: 0.035185 NDCG@1: 0.402985 MAP@1: 0.402985 MAP: 0.469323 PREC@3: 0.351457 RECALL@3: 0.092112 NDCG@3: 0.579751 MAP@3: 0.494936 PREC@5: 0.323241 RECALL@5: 0.139112 NDCG@5: 0.598182 MAP@5: 0.50065 PREC@10: 0.267591 RECALL@10: 0.224319 NDCG@10: 0.591174 MAP@10: 0.469323 \n",
      "Eval:: PREC@1: 0.39893 RECALL@1: 0.036003 NDCG@1: 0.39893 MAP@1: 0.39893 MAP: 0.467077 PREC@3: 0.348307 RECALL@3: 0.092217 NDCG@3: 0.576562 MAP@3: 0.492335 PREC@5: 0.311872 RECALL@5: 0.139154 NDCG@5: 0.59412 MAP@5: 0.495772 PREC@10: 0.259893 RECALL@10: 0.222456 NDCG@10: 0.5885 MAP@10: 0.467077 \n",
      "Eval:: PREC@1: 0.421109 RECALL@1: 0.036957 NDCG@1: 0.421109 MAP@1: 0.421109 MAP: 0.471469 PREC@3: 0.347193 RECALL@3: 0.091612 NDCG@3: 0.587424 MAP@3: 0.508973 PREC@5: 0.316844 RECALL@5: 0.135666 NDCG@5: 0.590273 MAP@5: 0.503132 PREC@10: 0.259168 RECALL@10: 0.216215 NDCG@10: 0.58569 MAP@10: 0.471469 \n",
      "Mean:: PREC@1: 0.407952 RECALL@1: 0.036671 NDCG@1: 0.407952 MAP@1: 0.407952 MAP: 0.467853 PREC@3: 0.347264 RECALL@3: 0.091453 NDCG@3: 0.584565 MAP@3: 0.500050 PREC@5: 0.315293 RECALL@5: 0.136852 NDCG@5: 0.596172 MAP@5: 0.500554 PREC@10: 0.262772 RECALL@10: 0.220346 NDCG@10: 0.586940 MAP@10: 0.467853 \n",
      "STD:: PREC@1: 0.009159 RECALL@1: 0.000767 NDCG@1: 0.009159 MAP@1: 0.009159 MAP: 0.005662 PREC@3: 0.006375 RECALL@3: 0.002002 NDCG@3: 0.011257 MAP@3: 0.009084 PREC@5: 0.006322 RECALL@5: 0.003150 NDCG@5: 0.010637 MAP@5: 0.008294 PREC@10: 0.003941 RECALL@10: 0.003191 NDCG@10: 0.007344 MAP@10: 0.005662 \n"
     ]
    }
   ],
   "source": [
    "recommender = ItemKNN(as_binary=True)\n",
    "CrossValidation(input_file=db, recommender=recommender, dir_folds=folds_path, header=1, k_folds=7, write_predictions='TRUE').compute()"
   ]
  },
  {
   "cell_type": "code",
   "execution_count": 9,
   "id": "20ccd9f7-a726-4fb6-8b82-eb7e3da5d5d7",
   "metadata": {},
   "outputs": [
    {
     "name": "stdout",
     "output_type": "stream",
     "text": [
      "[Case Recommender: Cross Validation]\n",
      "\n",
      "Database:: ../datasets/ml-100k/u.data \n",
      "Recommender Algorithm:: UserKNN Algorithm | K Folds: 5\n",
      "\n",
      "Eval:: PREC@1: 0.497877 PREC@3: 0.429229 PREC@5: 0.389172 PREC@10: 0.322187 RECALL@1: 0.040963 RECALL@3: 0.093878 RECALL@5: 0.137476 RECALL@10: 0.212104 MAP@1: 0.497877 MAP@3: 0.59793 MAP@5: 0.590614 MAP@10: 0.547757 NDCG@1: 0.497877 NDCG@3: 0.687743 NDCG@5: 0.68218 NDCG@10: 0.662569 \n",
      "Eval:: PREC@1: 0.495228 RECALL@1: 0.037684 NDCG@1: 0.495228 MAP@1: 0.495228 MAP: 0.538558 PREC@3: 0.41216 RECALL@3: 0.089632 NDCG@3: 0.677533 MAP@3: 0.590491 PREC@5: 0.376458 RECALL@5: 0.131237 NDCG@5: 0.678077 MAP@5: 0.580055 PREC@10: 0.326617 RECALL@10: 0.214973 NDCG@10: 0.65814 MAP@10: 0.538558 \n",
      "Eval:: PREC@1: 0.4772 RECALL@1: 0.037175 NDCG@1: 0.4772 MAP@1: 0.4772 MAP: 0.532243 PREC@3: 0.407565 RECALL@3: 0.090457 NDCG@3: 0.66494 MAP@3: 0.577943 PREC@5: 0.372853 RECALL@5: 0.129464 NDCG@5: 0.666182 MAP@5: 0.57434 PREC@10: 0.319724 RECALL@10: 0.209398 NDCG@10: 0.650158 MAP@10: 0.532243 \n",
      "Eval:: PREC@1: 0.469713 RECALL@1: 0.036832 NDCG@1: 0.469713 MAP@1: 0.469713 MAP: 0.531013 PREC@3: 0.402409 RECALL@3: 0.089301 NDCG@3: 0.661957 MAP@3: 0.56943 PREC@5: 0.371307 RECALL@5: 0.131939 NDCG@5: 0.6657 MAP@5: 0.566894 PREC@10: 0.315834 RECALL@10: 0.208292 NDCG@10: 0.646883 MAP@10: 0.531013 \n",
      "Eval:: PREC@1: 0.462766 RECALL@1: 0.036374 NDCG@1: 0.462766 MAP@1: 0.462766 MAP: 0.52459 PREC@3: 0.408156 RECALL@3: 0.092766 NDCG@3: 0.664529 MAP@3: 0.569149 PREC@5: 0.370638 RECALL@5: 0.131352 NDCG@5: 0.671676 MAP@5: 0.567937 PREC@10: 0.319043 RECALL@10: 0.216175 NDCG@10: 0.647183 MAP@10: 0.52459 \n",
      "Mean:: PREC@1: 0.480557 RECALL@1: 0.037806 NDCG@1: 0.480557 MAP@1: 0.480557 MAP: 0.534832 PREC@3: 0.411904 RECALL@3: 0.091207 NDCG@3: 0.671340 MAP@3: 0.580989 PREC@5: 0.376086 RECALL@5: 0.132294 NDCG@5: 0.672763 MAP@5: 0.575968 PREC@10: 0.320681 RECALL@10: 0.212188 NDCG@10: 0.652987 MAP@10: 0.534832 \n",
      "STD:: PREC@1: 0.013861 RECALL@1: 0.001636 NDCG@1: 0.013861 MAP@1: 0.013861 MAP: 0.007837 PREC@3: 0.009201 RECALL@3: 0.001802 NDCG@3: 0.009827 MAP@3: 0.011492 PREC@5: 0.006846 RECALL@5: 0.002720 NDCG@5: 0.006501 MAP@5: 0.008726 PREC@10: 0.003594 RECALL@10: 0.003054 NDCG@10: 0.006282 MAP@10: 0.007837 \n"
     ]
    }
   ],
   "source": [
    "recommender = UserKNN(as_binary=True)\n",
    "CrossValidation(input_file=db, recommender=recommender, dir_folds=folds_path, header=1, k_folds=5, write_predictions='TRUE').compute()"
   ]
  },
  {
   "cell_type": "code",
   "execution_count": 10,
   "id": "4108a209-1107-4d01-b29e-ac0a10a6d012",
   "metadata": {},
   "outputs": [
    {
     "name": "stdout",
     "output_type": "stream",
     "text": [
      "[Case Recommender: Cross Validation]\n",
      "\n",
      "Database:: ../datasets/ml-100k/u.data \n",
      "Recommender Algorithm:: Most Popular | K Folds: 5\n",
      "\n",
      "Eval:: PREC@1: 0.304671 PREC@3: 0.215499 PREC@5: 0.211465 PREC@10: 0.18758 RECALL@1: 0.017331 RECALL@3: 0.037612 RECALL@5: 0.07015 RECALL@10: 0.11446 MAP@1: 0.304671 MAP@3: 0.366154 MAP@5: 0.385902 MAP@10: 0.36057 NDCG@1: 0.304671 NDCG@3: 0.42146 NDCG@5: 0.472186 NDCG@10: 0.472947 \n",
      "Eval:: PREC@1: 0.262487 RECALL@1: 0.014713 NDCG@1: 0.262487 MAP@1: 0.262487 MAP: 0.3577 PREC@3: 0.227418 RECALL@3: 0.040641 NDCG@3: 0.441662 MAP@3: 0.354322 PREC@5: 0.217003 RECALL@5: 0.070755 NDCG@5: 0.489936 MAP@5: 0.376838 PREC@10: 0.19118 RECALL@10: 0.118073 NDCG@10: 0.491579 MAP@10: 0.3577 \n",
      "Eval:: PREC@1: 0.284501 RECALL@1: 0.017644 NDCG@1: 0.284501 MAP@1: 0.284501 MAP: 0.354013 PREC@3: 0.204529 RECALL@3: 0.037678 NDCG@3: 0.400033 MAP@3: 0.344214 PREC@5: 0.212314 RECALL@5: 0.072477 NDCG@5: 0.468701 MAP@5: 0.37485 PREC@10: 0.192781 RECALL@10: 0.118223 NDCG@10: 0.474258 MAP@10: 0.354013 \n",
      "Eval:: PREC@1: 0.276302 RECALL@1: 0.01724 NDCG@1: 0.276302 MAP@1: 0.276302 MAP: 0.358444 PREC@3: 0.225292 RECALL@3: 0.043411 NDCG@3: 0.439746 MAP@3: 0.360344 PREC@5: 0.210414 RECALL@5: 0.066501 NDCG@5: 0.471189 MAP@5: 0.373354 PREC@10: 0.189692 RECALL@10: 0.111939 NDCG@10: 0.482823 MAP@10: 0.358444 \n",
      "Eval:: PREC@1: 0.272051 RECALL@1: 0.014481 NDCG@1: 0.272051 MAP@1: 0.272051 MAP: 0.349253 PREC@3: 0.220687 RECALL@3: 0.039652 NDCG@3: 0.422041 MAP@3: 0.349008 PREC@5: 0.208289 RECALL@5: 0.066177 NDCG@5: 0.465718 MAP@5: 0.366156 PREC@10: 0.192349 RECALL@10: 0.114572 NDCG@10: 0.476057 MAP@10: 0.349253 \n",
      "Mean:: PREC@1: 0.280002 RECALL@1: 0.016282 NDCG@1: 0.280002 MAP@1: 0.280002 MAP: 0.355996 PREC@3: 0.218685 RECALL@3: 0.039799 NDCG@3: 0.424988 MAP@3: 0.354808 PREC@5: 0.211897 RECALL@5: 0.069212 NDCG@5: 0.473546 MAP@5: 0.375420 PREC@10: 0.190716 RECALL@10: 0.115453 NDCG@10: 0.479533 MAP@10: 0.355996 \n",
      "STD:: PREC@1: 0.014230 RECALL@1: 0.001384 NDCG@1: 0.014230 MAP@1: 0.014230 MAP: 0.003980 PREC@3: 0.008179 RECALL@3: 0.002147 NDCG@3: 0.015098 MAP@3: 0.007816 PREC@5: 0.002886 RECALL@5: 0.002469 NDCG@5: 0.008495 MAP@5: 0.006361 PREC@10: 0.001899 RECALL@10: 0.002394 NDCG@10: 0.006917 MAP@10: 0.003980 \n"
     ]
    }
   ],
   "source": [
    "recommender = MostPopular(as_binary=True)\n",
    "CrossValidation(input_file=db, recommender=recommender, dir_folds=folds_path, header=1, k_folds=5, write_predictions='TRUE').compute()"
   ]
  },
  {
   "cell_type": "code",
   "execution_count": null,
   "id": "c3fb5b3c-0d6c-425c-8731-1512d45bb59b",
   "metadata": {},
   "outputs": [],
   "source": []
  }
 ],
 "metadata": {
  "kernelspec": {
   "display_name": "Python 3",
   "language": "python",
   "name": "python3"
  },
  "language_info": {
   "codemirror_mode": {
    "name": "ipython",
    "version": 3
   },
   "file_extension": ".py",
   "mimetype": "text/x-python",
   "name": "python",
   "nbconvert_exporter": "python",
   "pygments_lexer": "ipython3",
   "version": "3.13.0"
  }
 },
 "nbformat": 4,
 "nbformat_minor": 5
}
