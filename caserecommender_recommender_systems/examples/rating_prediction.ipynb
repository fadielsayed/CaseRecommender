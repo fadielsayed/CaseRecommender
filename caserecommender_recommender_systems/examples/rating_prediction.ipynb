{
 "cells": [
  {
   "cell_type": "code",
   "execution_count": 6,
   "metadata": {},
   "outputs": [],
   "source": [
    "# Importing the caserecommender rating prediction recoomenders"
   ]
  },
  {
   "cell_type": "code",
   "execution_count": 7,
   "metadata": {},
   "outputs": [],
   "source": [
    "from caserec.recommenders.rating_prediction.matrixfactorization import MatrixFactorization\n",
    "from caserec.recommenders.rating_prediction.itemknn import ItemKNN\n",
    "from caserec.recommenders.rating_prediction.userknn import UserKNN\n",
    "from caserec.utils.cross_validation import CrossValidation"
   ]
  },
  {
   "cell_type": "code",
   "execution_count": null,
   "metadata": {},
   "outputs": [],
   "source": [
    "# Defining the Dataset path and the folds output path"
   ]
  },
  {
   "cell_type": "code",
   "execution_count": 8,
   "metadata": {},
   "outputs": [],
   "source": [
    "db = '../datasets/ml-100k/u.data'\n",
    "folds_path = '../datasets/ml-100k/'"
   ]
  },
  {
   "cell_type": "code",
   "execution_count": null,
   "metadata": {},
   "outputs": [],
   "source": [
    "# Using the Item KNN recommender to do rating prediction\n",
    "# Using Cross Validation for evaluation"
   ]
  },
  {
   "cell_type": "code",
   "execution_count": 9,
   "metadata": {},
   "outputs": [
    {
     "name": "stdout",
     "output_type": "stream",
     "text": [
      "[Case Recommender: Cross Validation]\n",
      "\n",
      "Database:: ../datasets/ml-100k/u.data \n",
      "Recommender Algorithm:: ItemKNN Algorithm | K Folds: 5\n",
      "\n",
      "Eval:: MAE: 0.807411 RMSE: 1.054295 \n",
      "Eval:: MAE: 0.800699 RMSE: 1.040754 \n",
      "Eval:: MAE: 0.804145 RMSE: 1.04487 \n",
      "Eval:: MAE: 0.793164 RMSE: 1.033983 \n",
      "Eval:: MAE: 0.801168 RMSE: 1.038904 \n",
      "Mean:: MAE: 0.801317 RMSE: 1.042561 \n",
      "STD:: MAE: 0.004733 RMSE: 0.006830 \n"
     ]
    }
   ],
   "source": [
    "recommender = ItemKNN()\n",
    "CrossValidation(input_file=db, recommender=recommender, dir_folds=folds_path, header=1, k_folds=5, write_predictions='TRUE').compute()"
   ]
  },
  {
   "cell_type": "code",
   "execution_count": 10,
   "metadata": {},
   "outputs": [],
   "source": [
    "# Using the User KNN recommender to do rating prediction\n",
    "# Using Cross Validation for evaluation"
   ]
  },
  {
   "cell_type": "code",
   "execution_count": 11,
   "metadata": {},
   "outputs": [
    {
     "name": "stdout",
     "output_type": "stream",
     "text": [
      "[Case Recommender: Cross Validation]\n",
      "\n",
      "Database:: ../datasets/ml-100k/u.data \n",
      "Recommender Algorithm:: UserKNN Algorithm | K Folds: 5\n",
      "\n",
      "Eval:: MAE: 0.733205 RMSE: 0.938569 \n",
      "Eval:: MAE: 0.735099 RMSE: 0.939466 \n",
      "Eval:: MAE: 0.740274 RMSE: 0.944827 \n",
      "Eval:: MAE: 0.732017 RMSE: 0.93449 \n",
      "Eval:: MAE: 0.733486 RMSE: 0.9366 \n",
      "Mean:: MAE: 0.734816 RMSE: 0.938790 \n",
      "STD:: MAE: 0.002901 RMSE: 0.003471 \n"
     ]
    }
   ],
   "source": [
    "recommender = UserKNN()\n",
    "CrossValidation(input_file=db, recommender=recommender, dir_folds=folds_path, header=1, k_folds=5, write_predictions='TRUE').compute()"
   ]
  },
  {
   "cell_type": "code",
   "execution_count": null,
   "metadata": {},
   "outputs": [],
   "source": [
    "# Using the Matrix factorization recommender to do rating prediction\n",
    "# Using Cross Validation for evaluation"
   ]
  },
  {
   "cell_type": "code",
   "execution_count": 12,
   "metadata": {},
   "outputs": [
    {
     "name": "stdout",
     "output_type": "stream",
     "text": [
      "[Case Recommender: Cross Validation]\n",
      "\n",
      "Database:: ../datasets/ml-100k/u.data \n",
      "Recommender Algorithm:: Matrix Factorization | K Folds: 5\n",
      "\n",
      "Eval:: MAE: 0.750766 RMSE: 0.956342 \n",
      "Eval:: MAE: 0.739433 RMSE: 0.945607 \n",
      "Eval:: MAE: 0.747182 RMSE: 0.955834 \n",
      "Eval:: MAE: 0.831235 RMSE: 1.045601 \n",
      "Eval:: MAE: 0.744833 RMSE: 0.952444 \n",
      "Mean:: MAE: 0.762690 RMSE: 0.971166 \n",
      "STD:: MAE: 0.034470 RMSE: 0.037414 \n"
     ]
    }
   ],
   "source": [
    "recommender = MatrixFactorization()\n",
    "CrossValidation(input_file=db, recommender=recommender, dir_folds=folds_path, header=1, k_folds=5, write_predictions='TRUE').compute()"
   ]
  },
  {
   "cell_type": "code",
   "execution_count": null,
   "metadata": {},
   "outputs": [],
   "source": []
  }
 ],
 "metadata": {
  "kernelspec": {
   "display_name": "Python 3",
   "language": "python",
   "name": "python3"
  },
  "language_info": {
   "codemirror_mode": {
    "name": "ipython",
    "version": 3
   },
   "file_extension": ".py",
   "mimetype": "text/x-python",
   "name": "python",
   "nbconvert_exporter": "python",
   "pygments_lexer": "ipython3",
   "version": "3.13.0"
  }
 },
 "nbformat": 4,
 "nbformat_minor": 4
}
